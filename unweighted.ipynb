{
 "cells": [
  {
   "cell_type": "code",
   "execution_count": 203,
   "metadata": {
    "collapsed": true
   },
   "outputs": [],
   "source": [
    "import math\n",
    "from itertools import groupby\n",
    "import collections\n",
    "import numpy as np\n",
    "import matplotlib.pyplot as plt\n",
    "import itertools \n",
    "import pylab as pl\n",
    "from matplotlib import collections  as mc"
   ]
  },
  {
   "cell_type": "markdown",
   "metadata": {},
   "source": [
    "# Input processing"
   ]
  },
  {
   "cell_type": "code",
   "execution_count": 204,
   "metadata": {
    "collapsed": false
   },
   "outputs": [],
   "source": [
    "name ='example'"
   ]
  },
  {
   "cell_type": "code",
   "execution_count": 205,
   "metadata": {
    "collapsed": false
   },
   "outputs": [],
   "source": [
    "f = open(name+'A.txt')\n",
    "fcontents = f.read()\n",
    "# can delete\n",
    "# print(type(fcontents))\n",
    "# print(fcontents)"
   ]
  },
  {
   "cell_type": "code",
   "execution_count": 206,
   "metadata": {
    "collapsed": false
   },
   "outputs": [],
   "source": [
    "def split_line(text):\n",
    "    # split the text\n",
    "    words = text.split()\n",
    "    answer = [] \n",
    "    # for each word in the line:\n",
    "    for word in words:\n",
    "        # print the word\n",
    "        answer.append(word)\n",
    "    return answer"
   ]
  },
  {
   "cell_type": "code",
   "execution_count": 242,
   "metadata": {
    "collapsed": false
   },
   "outputs": [],
   "source": [
    "def coerce_int(text):\n",
    "    answer= []\n",
    "    for word in text:\n",
    "        answer.append(int(word))\n",
    "    return answer"
   ]
  },
  {
   "cell_type": "code",
   "execution_count": 243,
   "metadata": {
    "collapsed": false
   },
   "outputs": [],
   "source": [
    "edge = coerce_int(split_line(fcontents)) # an integer array of length 2*e of edge information, 1-start\n",
    "n = max(edge)\n",
    "e = int(len(edge)/2)\n",
    "for i in range(len(edge)):\n",
    "    edge[i] -= 1\n",
    "# now edge is 0-start. It will remain this way."
   ]
  },
  {
   "cell_type": "markdown",
   "metadata": {},
   "source": [
    "# Creating edge and vertex objects"
   ]
  },
  {
   "cell_type": "code",
   "execution_count": 244,
   "metadata": {
    "collapsed": false
   },
   "outputs": [],
   "source": [
    "class Edge(object):\n",
    "#    def method_a(self, foo):\n",
    "#        print (self.x + ' ' + foo)\n",
    "    def __init__(self): \n",
    "        self.x = \"hello\" # can delete\n",
    "        self.invertex = -1\n",
    "        self.outvertex = -1\n",
    "        self.edgeWeight = -1\n",
    "        self.edgePQ = -1\n",
    "#arr[1].method_a('Sailor!')  # can delete"
   ]
  },
  {
   "cell_type": "code",
   "execution_count": 245,
   "metadata": {
    "collapsed": false
   },
   "outputs": [],
   "source": [
    "class Vertex(object):\n",
    "    def __init__(self):\n",
    "        self.degree = -1\n",
    "        self.rep = -1 # with the next segment, the rep will just be itself at the beginning\n",
    "        self.componentSize = 0 # will update later\n",
    "        self.death = -1\n",
    "        self.index = -1 # the index is itself. We might not need to use this ever. Could delete, if not needed\n",
    "        self.merge = -1 # in the end, merge == -1 if either the vertex is the main branch, or if it got merged along as a byproduct of another vertex merging \n",
    "        self.branchSize = [1] # will update later\n",
    "        self.branchTime = [-1]\n",
    "        self.mergeTime = -1 # TODO fill in below. Mark this the weight of the weidge when it's first merged\n",
    "    def equal(self,v):\n",
    "        if v.index == self.index:\n",
    "            return True\n",
    "        return False"
   ]
  },
  {
   "cell_type": "code",
   "execution_count": 246,
   "metadata": {
    "collapsed": false
   },
   "outputs": [],
   "source": [
    "arrV  = [Vertex() for i in range(n)]\n",
    "for i in range(n):\n",
    "    arrV[i].rep = i\n",
    "    arrV[i].index = i"
   ]
  },
  {
   "cell_type": "code",
   "execution_count": 247,
   "metadata": {
    "collapsed": true
   },
   "outputs": [],
   "source": [
    "arrE  =[Edge() for i in range(e)]\n",
    "for i in range(int(len(edge)/2)):\n",
    "    if edge[2*i] < edge[2*i+1]:\n",
    "        arrE[i].invertex = edge[2*i]\n",
    "        arrE[i].outvertex = edge[2*i+1]\n",
    "    else:\n",
    "        arrE[i].invertex = edge[2*i+1]\n",
    "        arrE[i].outvertex = edge[2*i]"
   ]
  },
  {
   "cell_type": "markdown",
   "metadata": {},
   "source": [
    "# Cleaning up edges: deleting non-unique edges \n",
    "# (can ignore if no non-unique edge)"
   ]
  },
  {
   "cell_type": "code",
   "execution_count": 248,
   "metadata": {
    "collapsed": false
   },
   "outputs": [],
   "source": [
    "tmp1 = []\n",
    "tmp2 = []\n",
    "for i in range(int(len(edge)/2)-1):\n",
    "    if edge[2*i] < edge[2*i+1]:\n",
    "        tmp1.append(edge[2*i])\n",
    "        tmp2.append(edge[2*i+1])\n",
    "    else:\n",
    "        tmp2.append(edge[2*i])\n",
    "        tmp1.append(edge[2*i+1])"
   ]
  },
  {
   "cell_type": "code",
   "execution_count": 249,
   "metadata": {
    "collapsed": false
   },
   "outputs": [],
   "source": [
    "adjMatrix = [[0 for i in range(n)] for j in range(n)]\n",
    "for i in range(int(len(edge)/2)):\n",
    "    if edge[2*i] < edge[2*i+1]:\n",
    "        adjMatrix[edge[2*i]][edge[2*i+1]] +=1\n",
    "    else:\n",
    "        adjMatrix[edge[2*i+1]][edge[2*i]] +=1\n",
    "uniqueEdge=[]\n",
    "for i in range(n):\n",
    "    for j in range(n):\n",
    "        if adjMatrix[i][j] != 0:\n",
    "            uniqueEdge.append(i)\n",
    "            uniqueEdge.append(j)"
   ]
  },
  {
   "cell_type": "code",
   "execution_count": 250,
   "metadata": {
    "collapsed": true
   },
   "outputs": [],
   "source": [
    "edge = uniqueEdge\n",
    "e = int(len(edge)/2)\n",
    "arrE  =[Edge() for i in range(e)]\n",
    "for i in range(int(len(edge)/2)):\n",
    "    if edge[2*i] < edge[2*i+1]:\n",
    "        arrE[i].invertex = edge[2*i]\n",
    "        arrE[i].outvertex = edge[2*i+1]\n",
    "    else:\n",
    "        arrE[i].invertex = edge[2*i+1]\n",
    "        arrE[i].outvertex = edge[2*i]"
   ]
  },
  {
   "cell_type": "markdown",
   "metadata": {},
   "source": [
    "# Setting up vertex degree, edge weights, edge priority queue"
   ]
  },
  {
   "cell_type": "code",
   "execution_count": 251,
   "metadata": {
    "collapsed": false
   },
   "outputs": [],
   "source": [
    "# can delete\n",
    "# print(len(uniqueEdge)) \n",
    "# print(len(edge))\n",
    "# print(uniqueEdge)\n",
    "# print(uniqueEdge)"
   ]
  },
  {
   "cell_type": "code",
   "execution_count": 252,
   "metadata": {
    "collapsed": false
   },
   "outputs": [],
   "source": [
    "# degreeDic = {x:uniqueEdge.count(x) for x in uniqueEdge}"
   ]
  },
  {
   "cell_type": "code",
   "execution_count": 253,
   "metadata": {
    "collapsed": false
   },
   "outputs": [],
   "source": [
    "# degreeA, degreeB = degreeDic.keys(), degreeDic.values()"
   ]
  },
  {
   "cell_type": "code",
   "execution_count": 254,
   "metadata": {
    "collapsed": false
   },
   "outputs": [],
   "source": [
    "# degreeB"
   ]
  },
  {
   "cell_type": "code",
   "execution_count": 255,
   "metadata": {
    "collapsed": false
   },
   "outputs": [],
   "source": [
    "#import collections\n",
    "#a = [1,1,1,1,2,2,2,2,3,3,4,5,5]\n",
    "#counter=collections.Counter(a)\n",
    "#print(counter)\n",
    "## Counter({1: 4, 2: 4, 3: 2, 5: 2, 4: 1})\n",
    "#print(counter.values())\n",
    "## [4, 4, 2, 1, 2]\n",
    "#print(counter.keys())\n",
    "## [1, 2, 3, 4, 5]\n",
    "#print(counter.most_common(3))\n",
    "## [(1, 4), (2, 4), (3, 2)]"
   ]
  },
  {
   "cell_type": "code",
   "execution_count": 256,
   "metadata": {
    "collapsed": false
   },
   "outputs": [],
   "source": [
    "#degreeCounter  = collections.Counter(uniqueEdge)\n",
    "#print(degreeCounter)\n",
    "#print(degreeCounter.values())\n",
    "#print(degreeCounter.keys())\n",
    "#degreeCounter.get(1)"
   ]
  },
  {
   "cell_type": "code",
   "execution_count": 257,
   "metadata": {
    "collapsed": false
   },
   "outputs": [],
   "source": [
    "degreeCounter  = collections.Counter(uniqueEdge) # be CAREFUL. Here I use uniqueEdge. Don't need to if dne non-unique edges\n",
    "for i in range(n):\n",
    "    arrV[i].degree = degreeCounter.get(i)\n",
    "    arrV[i].branchTime[0] = arrV[i].degree\n",
    "for i in range(e):\n",
    "    arrE[i].edgeWeight = min(arrV[arrE[i].invertex].degree,arrV[arrE[i].outvertex].degree )"
   ]
  },
  {
   "cell_type": "code",
   "execution_count": 258,
   "metadata": {
    "collapsed": false
   },
   "outputs": [],
   "source": [
    "# can delete\n",
    "#for i in range(n):\n",
    "#   print(arrV[i].degree)\n",
    "#for i in range(e):\n",
    "#    print(arrE[i].edgeWeight)"
   ]
  },
  {
   "cell_type": "code",
   "execution_count": 259,
   "metadata": {
    "collapsed": false
   },
   "outputs": [],
   "source": [
    "arrEdgeWeight = []\n",
    "for i in range(e):\n",
    "    arrEdgeWeight.append(arrE[i].edgeWeight)"
   ]
  },
  {
   "cell_type": "code",
   "execution_count": 260,
   "metadata": {
    "collapsed": false
   },
   "outputs": [],
   "source": [
    "arrEdgePQ = sorted(range(len(arrEdgeWeight)), key=lambda k:arrEdgeWeight[k])\n",
    "for i in range(e):\n",
    "    arrE[arrEdgePQ[i]].edgePQ = e-1-i #0-start"
   ]
  },
  {
   "cell_type": "code",
   "execution_count": 261,
   "metadata": {
    "collapsed": false
   },
   "outputs": [],
   "source": [
    "# debugging\n",
    "#for i in range(e):\n",
    "#    print(arrE[i].edgePQ)"
   ]
  },
  {
   "cell_type": "code",
   "execution_count": 262,
   "metadata": {
    "collapsed": false
   },
   "outputs": [],
   "source": [
    "arrEdgePQ = [0]*e\n",
    "for i in range(e):\n",
    "    arrEdgePQ[arrE[i].edgePQ] = i"
   ]
  },
  {
   "cell_type": "code",
   "execution_count": 263,
   "metadata": {
    "collapsed": false
   },
   "outputs": [],
   "source": [
    "# can delete\n",
    "# len(arrEdgeWeight)"
   ]
  },
  {
   "cell_type": "code",
   "execution_count": 264,
   "metadata": {
    "collapsed": false
   },
   "outputs": [],
   "source": [
    "# can delete\n",
    "# len(sorted(range(len(arrEdgeWeight)), key=lambda k:arrEdgeWeight[k]))"
   ]
  },
  {
   "cell_type": "code",
   "execution_count": 265,
   "metadata": {
    "collapsed": false
   },
   "outputs": [],
   "source": [
    "# can delete\n",
    "# sorted(range(len(arrEdgeWeight)), key=lambda k:arrEdgeWeight[k])"
   ]
  },
  {
   "cell_type": "code",
   "execution_count": 266,
   "metadata": {
    "collapsed": false
   },
   "outputs": [],
   "source": [
    "# debugging\n",
    "#for i in range(e):\n",
    "#    print(arrE[i].edgePQ)"
   ]
  },
  {
   "cell_type": "code",
   "execution_count": 267,
   "metadata": {
    "collapsed": false
   },
   "outputs": [],
   "source": [
    "# debugging\n",
    "# print(arrE[0].edgePQ)\n",
    "# print(arrEdgePQ)"
   ]
  },
  {
   "cell_type": "markdown",
   "metadata": {},
   "source": [
    "# Union-find"
   ]
  },
  {
   "cell_type": "code",
   "execution_count": 268,
   "metadata": {
    "collapsed": true
   },
   "outputs": [],
   "source": [
    "def get_last(a):\n",
    "    return a[len(a)-1]"
   ]
  },
  {
   "cell_type": "code",
   "execution_count": 269,
   "metadata": {
    "collapsed": false
   },
   "outputs": [
    {
     "name": "stdout",
     "output_type": "stream",
     "text": [
      "6 6 5\n",
      "5 6 4\n",
      "3 3 4\n",
      "2 2 1\n",
      "4 3 0\n",
      "1 2 0\n"
     ]
    }
   ],
   "source": [
    "# disjoint-set union-find, comparing rep's degree. Merge to the larger degreed rep.\n",
    "for k in range(e):\n",
    "    i = arrEdgePQ[k]\n",
    "    currE = arrE[i] # edges are stored in an array of edges, called arrE. This is an index.\n",
    "    w=currE.outvertex # index of the out-vertex\n",
    "    v= currE.invertex # index of the in-vertex\n",
    "    repV = arrV[v].rep # vertices are stored in an array of vertices, called arrV. This is an index.\n",
    "    repW = arrV[w].rep # This is an index.\n",
    "    if arrV[v].rep != arrV[w].rep: \n",
    "        branchCounter = 0\n",
    "        if arrV[repV].degree >= arrV[repW].degree: # union by degree\n",
    "            print(str(repW) + ' '+str(w) + ' '+ str(v))\n",
    "            #if repW == w:\n",
    "                #arrV[w].merge = repV\n",
    "                #arrV[w].mergeTime = currE.edgeWeight\n",
    "            if arrV[w].mergeTime == -1:\n",
    "                arrV[w].mergeTime = currE.edgeWeight\n",
    "            if arrV[repW].mergeTime == -1:\n",
    "                arrV[repW].mergeTime = currE.edgeWeight\n",
    "            #arrV[repW].rep = repV\n",
    "            #arrV[repW].death = arrE[i].edgeWeight\n",
    "            #arrV[w].rep = repV\n",
    "            for j in range(n):\n",
    "                if arrV[j].rep == repW:\n",
    "                    arrV[j].rep = repV\n",
    "                    if arrV[j].death == -1: # update vertex death time\n",
    "                        arrV[j].death = arrE[i].edgeWeight\n",
    "                        arrV[j].merge = repV\n",
    "                    elif currE.edgeWeight == arrV[j].mergeTime:\n",
    "                        arrV[j].merge = repV\n",
    "            branchCounter += get_last(arrV[repW].branchSize)\n",
    "            arrV[repW].branchSize.append(0)\n",
    "            #arrV[repW].merge = repV\n",
    "            arrV[repV].branchSize.append(get_last(arrV[repV].branchSize) + branchCounter)\n",
    "            arrV[repV].branchTime.append(currE.edgeWeight)\n",
    "            arrV[repW].branchTime.append(currE.edgeWeight)\n",
    "        else:\n",
    "                print(str(repV) + ' '+str(v) + ' '+ str(w))\n",
    "                #if repV == v:\n",
    "                    #arrV[v].merge = repW\n",
    "                    #arrV[v].mergeTIme = currE.edgeWeight\n",
    "                if arrV[w].mergeTime == -1:\n",
    "                    arrV[w].mergeTime = currE.edgeWeight\n",
    "                if arrV[repW].mergeTime == -1:\n",
    "                    arrV[repW].mergeTime = currE.edgeWeight\n",
    "                #arrV[repV].rep = repW\n",
    "                #arrV[repV].death = arrE[i].edgeWeight\n",
    "                #arrV[v].rep = repW\n",
    "                for j in range(n):\n",
    "                    if arrV[j].rep == repV:\n",
    "                        arrV[j].rep = repW      \n",
    "                        if arrV[j].death == -1: # update vertex death time\n",
    "                            arrV[j].death = arrE[i].edgeWeight\n",
    "                            arrV[j].merge = repW\n",
    "                        elif currE.edgeWeight == arrV[j].mergeTime:\n",
    "                            arrV[j].merge = repW\n",
    "                branchCounter += get_last(arrV[repV].branchSize)\n",
    "                arrV[repV].branchSize.append(0)\n",
    "                #arrV[repV].merge = repW\n",
    "                arrV[repW].branchSize.append(get_last(arrV[repW].branchSize) +branchCounter)\n",
    "                arrV[repV].branchTime.append(currE.edgeWeight)\n",
    "                arrV[repW].branchTime.append(currE.edgeWeight)"
   ]
  },
  {
   "cell_type": "code",
   "execution_count": null,
   "metadata": {
    "collapsed": true
   },
   "outputs": [],
   "source": [
    "# count component sizes \n",
    "for i in range(n):\n",
    "    arrV[arrV[i].rep].componentSize +=1"
   ]
  },
  {
   "cell_type": "markdown",
   "metadata": {},
   "source": [
    "# Printing union-find results out, mostly for debugging"
   ]
  },
  {
   "cell_type": "code",
   "execution_count": 272,
   "metadata": {
    "collapsed": false
   },
   "outputs": [
    {
     "name": "stdout",
     "output_type": "stream",
     "text": [
      "    0     7    -1     0     3    -1    -1            [1, 5, 7]            [3, 2, 2]\n",
      "    1     0     2     0     2     2     0            [1, 2, 0]            [2, 2, 2]\n",
      "    2     0     2     0     2     2     0               [1, 0]               [2, 2]\n",
      "    3     0     2     0     2     2     0               [1, 0]               [2, 2]\n",
      "    4     0     2     0     3     2     0         [1, 3, 4, 0]         [3, 2, 2, 2]\n",
      "    5     0     2     0     2     2     0            [1, 2, 0]            [2, 2, 2]\n",
      "    6     0     2     0     2     2     0               [1, 0]               [2, 2]\n"
     ]
    }
   ],
   "source": [
    "for i in range(n):\n",
    "      print('{:>5} {:>5} {:>5} {:>5} {:>5} {:>5} {:>5} {:>20} {:>20}'.format(str(i), str(arrV[i].componentSize),str(arrV[i].mergeTime), str(arrV[i].rep), str(arrV[i].degree),str(arrV[i].death) , str(arrV[i].merge),   str(arrV[i].branchSize),str(arrV[i].branchTime)  ))"
   ]
  },
  {
   "cell_type": "markdown",
   "metadata": {},
   "source": [
    "# Interpreting results + Graphing \n",
    "# TODO (algo updated above, this part not yet) "
   ]
  },
  {
   "cell_type": "code",
   "execution_count": 35,
   "metadata": {
    "collapsed": false
   },
   "outputs": [],
   "source": [
    "# reference\n",
    "# http://www.pythonforbeginners.com/files/reading-and-writing-files-in-python\n",
    "# http://stackoverflow.com/questions/2967194/open-in-python-does-not-create-a-file-if-it-doesnt-exist\n",
    "file = open(name+'D.txt', 'w+')\n",
    "for i in range(n):\n",
    "    file.write(str(i) + ','+ str(arrV[i].componentSize)+','+str(arrV[i].rep) + ','+str(arrV[i].degree)+','+str(arrV[i].death) + ','+str(arrV[i].merge)+','+str(arrV[i].branchSize)+','+str(arrV[i].branchTime))\n",
    "    file.write('\\n')\n",
    "file.close() "
   ]
  },
  {
   "cell_type": "code",
   "execution_count": 36,
   "metadata": {
    "collapsed": true
   },
   "outputs": [],
   "source": [
    "birthArr = []\n",
    "deathArr = []\n",
    "for i in range(n):\n",
    "    birthArr.append(arrV[i].degree)\n",
    "    deathArr.append(arrV[i].death)"
   ]
  },
  {
   "cell_type": "code",
   "execution_count": 37,
   "metadata": {
    "collapsed": false
   },
   "outputs": [],
   "source": [
    "# reference: draw graphs\n",
    "# http://stackoverflow.com/questions/6834483/how-do-you-create-line-segments-between-two-points\n",
    "# http://stackoverflow.com/questions/21352580/matplotlib-plotting-numerous-disconnected-line-segments-with-different-colors\n",
    "#lines = [[(0, 1), (1, 1)], [(2, 3), (3, 3)], [(1, 2), (1, 3)], [[3,4],[5,6]]]\n",
    "\n",
    "segs = np.zeros((n,2,2),int)\n",
    "segs[:,0,1] = birthArr #birth\n",
    "segs[:,1,0] = birthArr #birth\n",
    "segs[:,1,1] = birthArr #birth\n",
    "segs[:,0,0] = deathArr #death\n",
    "\n",
    "#  segs\n",
    "# [[[000 D0, 001 B0],[010 B0, 011 B0]],\n",
    "#  [[100 D1, 101 B1],[110 B1, 111 B1]],\n",
    "#  [[200 D2, 201 B2],[210 B2, 211 B2]]]\n",
    "c = np.array([(1, 0, 0, 1), (0, 1, 0, 1), (0, 0, 1, 1)])\n",
    "lc = mc.LineCollection(segs, colors=c, linewidths=2)\n",
    "fig, ax = pl.subplots()\n",
    "ax.add_collection(lc)\n",
    "ax.autoscale()\n",
    "ax.margins(0.1)\n",
    "plt.title(name+'Persistence')\n",
    "pl.savefig(name+'P.png', bbox_inches='tight')\n",
    "#plt.show()"
   ]
  },
  {
   "cell_type": "code",
   "execution_count": 38,
   "metadata": {
    "collapsed": true
   },
   "outputs": [],
   "source": [
    "# for reference\n",
    "#import matplotlib.pyplot as plt\n",
    "#import itertools \n",
    "\n",
    "#fig=plt.figure()\n",
    "#ax=fig.add_subplot(111)\n",
    "#all_data = [[1,10],[2,10],[3,10],[4,10],[5,10],[3,1],[3,2],[3,3],[3,4],[3,5]]\n",
    "#plt.plot(\n",
    "#    *zip(*itertools.chain.from_iterable(itertools.combinations(all_data, 2))),\n",
    "#    color = 'brown', marker = 'o')\n",
    "\n",
    "#pylab.savefig('foo.png', bbox_inches='tight')\n",
    "#plt.show()\n",
    "#pylab.savefig('foo.png', bbox_inches='tight')"
   ]
  },
  {
   "cell_type": "code",
   "execution_count": 39,
   "metadata": {
    "collapsed": false
   },
   "outputs": [
    {
     "data": {
      "image/png": "[encoded data removed]",
      "text/plain": [
       "<matplotlib.figure.Figure at 0x10efa6588>"
      ]
     },
     "metadata": {},
     "output_type": "display_data"
    }
   ],
   "source": [
    "plt.show()"
   ]
  },
  {
   "cell_type": "code",
   "execution_count": 40,
   "metadata": {
    "collapsed": false
   },
   "outputs": [],
   "source": [
    "# for safety check\n",
    "#for i in range(n):\n",
    "#    if arrV[i].degree is None:\n",
    "#        print(i)"
   ]
  },
  {
   "cell_type": "code",
   "execution_count": 41,
   "metadata": {
    "collapsed": false
   },
   "outputs": [],
   "source": [
    "maxBranchLength = 0\n",
    "maxBranchIndex = -1\n",
    "for i in range(n):\n",
    "    tmp = len(arrV[i].branchSize)\n",
    "    if maxBranchLength < tmp:\n",
    "        maxBranchIndex = i\n",
    "        maxBranchLength = tmp"
   ]
  },
  {
   "cell_type": "code",
   "execution_count": 42,
   "metadata": {
    "collapsed": false
   },
   "outputs": [],
   "source": [
    "# reference: both save graph and plot graph / plot color\n",
    "# http://stackoverflow.com/questions/21875356/saving-a-figure-after-invoking-pyplot-show-results-in-an-empty-file\n",
    "# http://matplotlib.org/api/colors_api.html\n",
    "plt.plot(arrV[maxBranchIndex].branchSize, color  = 'g')\n",
    "plt.title(name+': size Growth of the longest Branch')\n",
    "plt.ylabel('y = the number of nodes in the branch')\n",
    "plt.xlabel('x = the number of updates')\n",
    "plt.savefig(name+'GB.png', bbox_inches='tight')"
   ]
  },
  {
   "cell_type": "markdown",
   "metadata": {},
   "source": [
    "# scratch"
   ]
  },
  {
   "cell_type": "code",
   "execution_count": 558,
   "metadata": {
    "collapsed": false
   },
   "outputs": [
    {
     "ename": "ImportError",
     "evalue": "No module named 'ete2'",
     "output_type": "error",
     "traceback": [
      "\u001b[0;31m---------------------------------------------------------------------------\u001b[0m",
      "\u001b[0;31mImportError\u001b[0m                               Traceback (most recent call last)",
      "\u001b[0;32m<ipython-input-558-2df6e6bdff28>\u001b[0m in \u001b[0;36m<module>\u001b[0;34m()\u001b[0m\n\u001b[0;32m----> 1\u001b[0;31m \u001b[0;32mfrom\u001b[0m \u001b[0mete2\u001b[0m \u001b[0;32mimport\u001b[0m \u001b[0mTree\u001b[0m\u001b[0;34m,\u001b[0m \u001b[0mTreeStyle\u001b[0m\u001b[0;34m\u001b[0m\u001b[0m\n\u001b[0m\u001b[1;32m      2\u001b[0m \u001b[0mt\u001b[0m \u001b[0;34m=\u001b[0m \u001b[0mTree\u001b[0m\u001b[0;34m(\u001b[0m\u001b[0;34m)\u001b[0m\u001b[0;34m\u001b[0m\u001b[0m\n\u001b[1;32m      3\u001b[0m \u001b[0mt\u001b[0m\u001b[0;34m.\u001b[0m\u001b[0mpopulate\u001b[0m\u001b[0;34m(\u001b[0m\u001b[0;36m10\u001b[0m\u001b[0;34m,\u001b[0m \u001b[0mrandom_dist\u001b[0m\u001b[0;34m=\u001b[0m\u001b[0;32mTrue\u001b[0m\u001b[0;34m)\u001b[0m\u001b[0;34m\u001b[0m\u001b[0m\n\u001b[1;32m      4\u001b[0m \u001b[0mts\u001b[0m \u001b[0;34m=\u001b[0m \u001b[0mTreeStyle\u001b[0m\u001b[0;34m(\u001b[0m\u001b[0;34m)\u001b[0m\u001b[0;34m\u001b[0m\u001b[0m\n\u001b[1;32m      5\u001b[0m \u001b[0mts\u001b[0m\u001b[0;34m.\u001b[0m\u001b[0mshow_leaf_name\u001b[0m \u001b[0;34m=\u001b[0m \u001b[0;32mTrue\u001b[0m\u001b[0;34m\u001b[0m\u001b[0m\n",
      "\u001b[0;31mImportError\u001b[0m: No module named 'ete2'"
     ]
    }
   ],
   "source": [
    "from ete2 import Tree, TreeStyle\n",
    "t = Tree()\n",
    "t.populate(10, random_dist=True)\n",
    "ts = TreeStyle()\n",
    "ts.show_leaf_name = True\n",
    "ts.show_branch_length = True\n",
    "ts.show_branch_support = True\n",
    "t.show(tree_style=ts)"
   ]
  },
  {
   "cell_type": "code",
   "execution_count": null,
   "metadata": {
    "collapsed": true
   },
   "outputs": [],
   "source": []
  }
 ],
 "metadata": {
  "anaconda-cloud": {},
  "kernelspec": {
   "display_name": "Python 3",
   "language": "python",
   "name": "python3"
  },
  "language_info": {
   "codemirror_mode": {
    "name": "ipython",
    "version": 3
   },
   "file_extension": ".py",
   "mimetype": "text/x-python",
   "name": "python",
   "nbconvert_exporter": "python",
   "pygments_lexer": "ipython3",
   "version": "3.6.0"
  }
 },
 "nbformat": 4,
 "nbformat_minor": 1
}
