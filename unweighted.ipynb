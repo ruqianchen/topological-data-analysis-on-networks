{
 "cells": [
  {
   "cell_type": "code",
   "execution_count": 6,
   "metadata": {
    "collapsed": true
   },
   "outputs": [],
   "source": [
    "import math\n",
    "from itertools import groupby\n",
    "import collections\n",
    "import numpy as np"
   ]
  },
  {
   "cell_type": "markdown",
   "metadata": {},
   "source": [
    "# Input processing"
   ]
  },
  {
   "cell_type": "code",
   "execution_count": 7,
   "metadata": {
    "collapsed": false
   },
   "outputs": [],
   "source": [
    "f = open(\"graphA.txt\")\n",
    "fcontents = f.read()\n",
    "# can delete\n",
    "# print(type(fcontents))\n",
    "# print(fcontents)"
   ]
  },
  {
   "cell_type": "code",
   "execution_count": 8,
   "metadata": {
    "collapsed": false
   },
   "outputs": [],
   "source": [
    "def split_line(text):\n",
    "    # split the text\n",
    "    words = text.split()\n",
    "    answer = [] \n",
    "    # for each word in the line:\n",
    "    for word in words:\n",
    "        # print the word\n",
    "        answer.append(word)\n",
    "    return answer"
   ]
  },
  {
   "cell_type": "code",
   "execution_count": 9,
   "metadata": {
    "collapsed": false
   },
   "outputs": [],
   "source": [
    "def coerce_int(text):\n",
    "    answer= []\n",
    "    for word in text:\n",
    "        answer.append(int(word))\n",
    "    return answer"
   ]
  },
  {
   "cell_type": "code",
   "execution_count": 10,
   "metadata": {
    "collapsed": false
   },
   "outputs": [],
   "source": [
    "edge = coerce_int(split_line(fcontents)) # an integer array of length 2*e of edge information, 1-start\n",
    "n = max(edge)\n",
    "e = int(len(edge)/2)\n",
    "for i in range(len(edge)):\n",
    "    edge[i] -= 1\n",
    "# now edge is 0-start. It will remain this way."
   ]
  },
  {
   "cell_type": "markdown",
   "metadata": {},
   "source": [
    "# Creating edge and vertex objects"
   ]
  },
  {
   "cell_type": "code",
   "execution_count": 11,
   "metadata": {
    "collapsed": false
   },
   "outputs": [],
   "source": [
    "class Edge(object):\n",
    "#    def method_a(self, foo):\n",
    "#        print (self.x + ' ' + foo)\n",
    "    def __init__(self): \n",
    "        self.x = \"hello\" # can delete\n",
    "        self.invertex = -1\n",
    "        self.outvertex = -1\n",
    "        self.edgeWeight = -1\n",
    "        self.edgePQ = -1\n",
    "#arr[1].method_a('Sailor!')  # can delete"
   ]
  },
  {
   "cell_type": "code",
   "execution_count": 12,
   "metadata": {
    "collapsed": false
   },
   "outputs": [],
   "source": [
    "class Vertex(object):\n",
    "    def __init__(self):\n",
    "        self.degree = -1\n",
    "        self.rep = -1\n",
    "        self.componentSize = 0 # will update later\n",
    "        self.death = -1\n",
    "        self.index = -1\n",
    "        self.merge = -1 # in the end, merge == -1 if either the vertex is the main branch, or if it got merged along as a byproduct of another vertex merging \n",
    "        self.branchSize = [1] # will update later\n",
    "        self.branchTime = [-1]\n",
    "    def equal(self,v):\n",
    "        if v.index == self.index:\n",
    "            return True\n",
    "        return False"
   ]
  },
  {
   "cell_type": "code",
   "execution_count": 13,
   "metadata": {
    "collapsed": false
   },
   "outputs": [],
   "source": [
    "arrV  = [Vertex() for i in range(n)]\n",
    "for i in range(n):\n",
    "    arrV[i].rep = i\n",
    "    arrV[i].index = i"
   ]
  },
  {
   "cell_type": "code",
   "execution_count": 14,
   "metadata": {
    "collapsed": true
   },
   "outputs": [],
   "source": [
    "arrE  =[Edge() for i in range(e)]\n",
    "for i in range(int(len(edge)/2)):\n",
    "    if edge[2*i] < edge[2*i+1]:\n",
    "        arrE[i].invertex = edge[2*i]\n",
    "        arrE[i].outvertex = edge[2*i+1]\n",
    "    else:\n",
    "        arrE[i].invertex = edge[2*i+1]\n",
    "        arrE[i].outvertex = edge[2*i]"
   ]
  },
  {
   "cell_type": "markdown",
   "metadata": {},
   "source": [
    "# Cleaning up edges: deleting non-unique edges \n",
    "# (can ignore if no non-unique edge)"
   ]
  },
  {
   "cell_type": "code",
   "execution_count": 15,
   "metadata": {
    "collapsed": false
   },
   "outputs": [],
   "source": [
    "tmp1 = []\n",
    "tmp2 = []\n",
    "for i in range(int(len(edge)/2)-1):\n",
    "    if edge[2*i] < edge[2*i+1]:\n",
    "        tmp1.append(edge[2*i])\n",
    "        tmp2.append(edge[2*i+1])\n",
    "    else:\n",
    "        tmp2.append(edge[2*i])\n",
    "        tmp1.append(edge[2*i+1])"
   ]
  },
  {
   "cell_type": "code",
   "execution_count": 16,
   "metadata": {
    "collapsed": false
   },
   "outputs": [],
   "source": [
    "adjMatrix = [[0 for i in range(n)] for j in range(n)]\n",
    "for i in range(int(len(edge)/2)):\n",
    "    if edge[2*i] < edge[2*i+1]:\n",
    "        adjMatrix[edge[2*i]][edge[2*i+1]] +=1\n",
    "    else:\n",
    "        adjMatrix[edge[2*i+1]][edge[2*i]] +=1\n",
    "uniqueEdge=[]\n",
    "for i in range(n):\n",
    "    for j in range(n):\n",
    "        if adjMatrix[i][j] != 0:\n",
    "            uniqueEdge.append(i)\n",
    "            uniqueEdge.append(j)"
   ]
  },
  {
   "cell_type": "code",
   "execution_count": 17,
   "metadata": {
    "collapsed": true
   },
   "outputs": [],
   "source": [
    "edge = uniqueEdge\n",
    "e = int(len(edge)/2)\n",
    "arrE  =[Edge() for i in range(e)]\n",
    "for i in range(int(len(edge)/2)):\n",
    "    if edge[2*i] < edge[2*i+1]:\n",
    "        arrE[i].invertex = edge[2*i]\n",
    "        arrE[i].outvertex = edge[2*i+1]\n",
    "    else:\n",
    "        arrE[i].invertex = edge[2*i+1]\n",
    "        arrE[i].outvertex = edge[2*i]"
   ]
  },
  {
   "cell_type": "markdown",
   "metadata": {},
   "source": [
    "# Setting up vertex degree, edge weights, edge priority queue"
   ]
  },
  {
   "cell_type": "code",
   "execution_count": 18,
   "metadata": {
    "collapsed": false
   },
   "outputs": [],
   "source": [
    "# can delete\n",
    "# print(len(uniqueEdge)) \n",
    "# print(len(edge))\n",
    "# print(uniqueEdge)\n",
    "# print(uniqueEdge)"
   ]
  },
  {
   "cell_type": "code",
   "execution_count": 19,
   "metadata": {
    "collapsed": false
   },
   "outputs": [],
   "source": [
    "# degreeDic = {x:uniqueEdge.count(x) for x in uniqueEdge}"
   ]
  },
  {
   "cell_type": "code",
   "execution_count": 20,
   "metadata": {
    "collapsed": false
   },
   "outputs": [],
   "source": [
    "# degreeA, degreeB = degreeDic.keys(), degreeDic.values()"
   ]
  },
  {
   "cell_type": "code",
   "execution_count": 21,
   "metadata": {
    "collapsed": false
   },
   "outputs": [],
   "source": [
    "# degreeB"
   ]
  },
  {
   "cell_type": "code",
   "execution_count": 22,
   "metadata": {
    "collapsed": false
   },
   "outputs": [],
   "source": [
    "#import collections\n",
    "#a = [1,1,1,1,2,2,2,2,3,3,4,5,5]\n",
    "#counter=collections.Counter(a)\n",
    "#print(counter)\n",
    "## Counter({1: 4, 2: 4, 3: 2, 5: 2, 4: 1})\n",
    "#print(counter.values())\n",
    "## [4, 4, 2, 1, 2]\n",
    "#print(counter.keys())\n",
    "## [1, 2, 3, 4, 5]\n",
    "#print(counter.most_common(3))\n",
    "## [(1, 4), (2, 4), (3, 2)]"
   ]
  },
  {
   "cell_type": "code",
   "execution_count": 23,
   "metadata": {
    "collapsed": false
   },
   "outputs": [],
   "source": [
    "#degreeCounter  = collections.Counter(uniqueEdge)\n",
    "#print(degreeCounter)\n",
    "#print(degreeCounter.values())\n",
    "#print(degreeCounter.keys())\n",
    "#degreeCounter.get(1)"
   ]
  },
  {
   "cell_type": "code",
   "execution_count": 24,
   "metadata": {
    "collapsed": false
   },
   "outputs": [],
   "source": [
    "degreeCounter  = collections.Counter(uniqueEdge) # be CAREFUL. Here I use uniqueEdge. Don't need to if dne non-unique edges\n",
    "for i in range(n):\n",
    "    arrV[i].degree = degreeCounter.get(i)\n",
    "for i in range(e):\n",
    "    arrE[i].edgeWeight = min(arrV[arrE[i].invertex].degree,arrV[arrE[i].outvertex].degree )"
   ]
  },
  {
   "cell_type": "code",
   "execution_count": 25,
   "metadata": {
    "collapsed": false
   },
   "outputs": [],
   "source": [
    "# can delete\n",
    "#for i in range(n):\n",
    "#   print(arrV[i].degree)\n",
    "#for i in range(e):\n",
    "#    print(arrE[i].edgeWeight)"
   ]
  },
  {
   "cell_type": "code",
   "execution_count": 26,
   "metadata": {
    "collapsed": false
   },
   "outputs": [],
   "source": [
    "arrEdgeWeight = []\n",
    "for i in range(e):\n",
    "    arrEdgeWeight.append(arrE[i].edgeWeight)"
   ]
  },
  {
   "cell_type": "code",
   "execution_count": 27,
   "metadata": {
    "collapsed": false
   },
   "outputs": [],
   "source": [
    "arrEdgePQ = sorted(range(len(arrEdgeWeight)), key=lambda k:arrEdgeWeight[k])\n",
    "for i in range(e):\n",
    "    arrE[arrEdgePQ[i]].edgePQ = e-1-i #0-start"
   ]
  },
  {
   "cell_type": "code",
   "execution_count": 28,
   "metadata": {
    "collapsed": false
   },
   "outputs": [],
   "source": [
    "# debugging\n",
    "#for i in range(e):\n",
    "#    print(arrE[i].edgePQ)"
   ]
  },
  {
   "cell_type": "code",
   "execution_count": 29,
   "metadata": {
    "collapsed": false
   },
   "outputs": [],
   "source": [
    "arrEdgePQ = [0]*e\n",
    "for i in range(e):\n",
    "    arrEdgePQ[arrE[i].edgePQ] = i"
   ]
  },
  {
   "cell_type": "code",
   "execution_count": 30,
   "metadata": {
    "collapsed": false
   },
   "outputs": [],
   "source": [
    "# can delete\n",
    "# len(arrEdgeWeight)"
   ]
  },
  {
   "cell_type": "code",
   "execution_count": 31,
   "metadata": {
    "collapsed": false
   },
   "outputs": [],
   "source": [
    "# can delete\n",
    "# len(sorted(range(len(arrEdgeWeight)), key=lambda k:arrEdgeWeight[k]))"
   ]
  },
  {
   "cell_type": "code",
   "execution_count": 32,
   "metadata": {
    "collapsed": false
   },
   "outputs": [],
   "source": [
    "# can delete\n",
    "# sorted(range(len(arrEdgeWeight)), key=lambda k:arrEdgeWeight[k])"
   ]
  },
  {
   "cell_type": "code",
   "execution_count": 33,
   "metadata": {
    "collapsed": false
   },
   "outputs": [],
   "source": [
    "# debugging\n",
    "#for i in range(e):\n",
    "#    print(arrE[i].edgePQ)"
   ]
  },
  {
   "cell_type": "code",
   "execution_count": 34,
   "metadata": {
    "collapsed": false
   },
   "outputs": [],
   "source": [
    "# debugging\n",
    "# print(arrE[0].edgePQ)\n",
    "# print(arrEdgePQ)"
   ]
  },
  {
   "cell_type": "markdown",
   "metadata": {},
   "source": [
    "# Union-find"
   ]
  },
  {
   "cell_type": "code",
   "execution_count": 35,
   "metadata": {
    "collapsed": true
   },
   "outputs": [],
   "source": [
    "def get_last(a):\n",
    "    return a[len(a)-1]"
   ]
  },
  {
   "cell_type": "code",
   "execution_count": 36,
   "metadata": {
    "collapsed": false
   },
   "outputs": [],
   "source": [
    "# disjoint-set union-find, comparing rep's degree. Merge to the larger degreed rep.\n",
    "for k in range(e):\n",
    "    i = arrEdgePQ[k]\n",
    "    currE = arrE[i]\n",
    "    w=currE.outvertex\n",
    "    v= currE.invertex\n",
    "    repV = arrV[v].rep\n",
    "    repW = arrV[w].rep\n",
    "    if arrV[v].rep != arrV[w].rep:\n",
    "        branchCounter = 0\n",
    "        if arrV[repV].degree >= arrV[repW].degree:\n",
    "            if repW == w:\n",
    "                arrV[w].merge = repV\n",
    "            arrV[repW].rep = repV\n",
    "            arrV[repW].death = arrE[i].edgeWeight\n",
    "            #arrV[w].rep = repV\n",
    "            for j in range(n):\n",
    "                if arrV[j].rep == repW:\n",
    "                    arrV[j].rep = repV\n",
    "            branchCounter += get_last(arrV[repW].branchSize)\n",
    "            arrV[repW].branchSize.append(0)\n",
    "            arrV[repV].branchSize.append(get_last(arrV[repV].branchSize) + branchCounter)\n",
    "            arrV[repV].branchTime.append(currE.edgeWeight)\n",
    "            arrV[repW].branchTime.append(currE.edgeWeight)\n",
    "        else:\n",
    "                if repV == v:\n",
    "                    arrV[v].merge = repW\n",
    "                arrV[repV].rep = repW\n",
    "                arrV[repV].death = arrE[i].edgeWeight\n",
    "                #arrV[v].rep = repW\n",
    "                for j in range(n):\n",
    "                    if arrV[j].rep == repV:\n",
    "                        arrV[j].rep = repW       \n",
    "                branchCounter += get_last(arrV[repV].branchSize)\n",
    "                arrV[repV].branchSize.append(0)\n",
    "                arrV[repW].branchSize.append(get_last(arrV[repW].branchSize) +branchCounter)\n",
    "                arrV[repV].branchTime.append(currE.edgeWeight)\n",
    "                arrV[repW].branchTime.append(currE.edgeWeight)"
   ]
  },
  {
   "cell_type": "code",
   "execution_count": 37,
   "metadata": {
    "collapsed": false
   },
   "outputs": [],
   "source": [
    "for i in range(n):\n",
    "    arrV[arrV[i].rep].componentSize +=1"
   ]
  },
  {
   "cell_type": "markdown",
   "metadata": {},
   "source": [
    "# Printing union-find results out"
   ]
  },
  {
   "cell_type": "code",
   "execution_count": 38,
   "metadata": {
    "collapsed": false
   },
   "outputs": [
    {
     "name": "stdout",
     "output_type": "stream",
     "text": [
      "0 0 18 1 1 18 [1, 0] [-1, 1]\n",
      "1 0 18 4 2 -1 [1, 4, 8, 0] [-1, 3, 2, 2]\n",
      "2 0 18 2 2 -1 [1, 2, 0] [-1, 2, 2]\n",
      "3 0 18 2 2 2 [1, 0] [-1, 2]\n",
      "4 0 18 1 1 18 [1, 0] [-1, 1]\n",
      "5 0 18 3 3 8 [1, 0] [-1, 3]\n",
      "6 0 18 2 2 18 [1, 0] [-1, 2]\n",
      "7 0 18 2 2 18 [1, 0] [-1, 2]\n",
      "8 0 18 4 3 -1 [1, 2, 3, 0] [-1, 3, 3, 3]\n",
      "9 0 18 3 3 8 [1, 0] [-1, 3]\n",
      "10 0 18 2 2 18 [1, 0] [-1, 2]\n",
      "11 0 18 2 2 13 [1, 0] [-1, 2]\n",
      "12 0 18 1 1 18 [1, 0] [-1, 1]\n",
      "13 0 18 4 2 -1 [1, 3, 4, 0] [-1, 2, 2, 2]\n",
      "14 0 18 2 2 -1 [1, 2, 0] [-1, 2, 2]\n",
      "15 0 18 2 2 14 [1, 0] [-1, 2]\n",
      "16 0 18 1 1 18 [1, 0] [-1, 1]\n",
      "17 0 18 2 2 18 [1, 0] [-1, 2]\n",
      "18 21 18 5 -1 -1 [1, 2, 3, 4, 12, 13, 14, 16, 17, 18, 19, 20, 21] [-1, 2, 2, 2, 2, 2, 2, 2, 1, 1, 1, 1, 1]\n",
      "19 0 18 2 2 18 [1, 0] [-1, 2]\n",
      "20 0 18 1 1 18 [1, 0] [-1, 1]\n"
     ]
    }
   ],
   "source": [
    "for i in range(n):\n",
    "    print(str(i) + ' '+ str(arrV[i].componentSize)+' '+str(arrV[i].rep) + ' '+str(arrV[i].degree)+' '+str(arrV[i].death) + ' '+str(arrV[i].merge)+' '+str(arrV[i].branchSize)+' '+str(arrV[i].branchTime))"
   ]
  },
  {
   "cell_type": "markdown",
   "metadata": {},
   "source": [
    "# Interpreting results"
   ]
  },
  {
   "cell_type": "code",
   "execution_count": 42,
   "metadata": {
    "collapsed": false
   },
   "outputs": [],
   "source": [
    "# reference\n",
    "# http://www.pythonforbeginners.com/files/reading-and-writing-files-in-python\n",
    "# http://stackoverflow.com/questions/2967194/open-in-python-does-not-create-a-file-if-it-doesnt-exist\n",
    "file = open('graphD.txt', 'w+')\n",
    "for i in range(n):\n",
    "    file.write(str(i) + ','+ str(arrV[i].componentSize)+','+str(arrV[i].rep) + ','+str(arrV[i].degree)+','+str(arrV[i].death) + ','+str(arrV[i].merge)+','+str(arrV[i].branchSize)+','+str(arrV[i].branchTime))\n",
    "    file.write('\\n')\n",
    "file.close() "
   ]
  },
  {
   "cell_type": "code",
   "execution_count": null,
   "metadata": {
    "collapsed": true
   },
   "outputs": [],
   "source": []
  },
  {
   "cell_type": "code",
   "execution_count": null,
   "metadata": {
    "collapsed": true
   },
   "outputs": [],
   "source": []
  },
  {
   "cell_type": "code",
   "execution_count": null,
   "metadata": {
    "collapsed": true
   },
   "outputs": [],
   "source": []
  },
  {
   "cell_type": "code",
   "execution_count": null,
   "metadata": {
    "collapsed": true
   },
   "outputs": [],
   "source": []
  },
  {
   "cell_type": "code",
   "execution_count": null,
   "metadata": {
    "collapsed": true
   },
   "outputs": [],
   "source": []
  },
  {
   "cell_type": "code",
   "execution_count": null,
   "metadata": {
    "collapsed": true
   },
   "outputs": [],
   "source": []
  }
 ],
 "metadata": {
  "anaconda-cloud": {},
  "kernelspec": {
   "display_name": "Python [conda root]",
   "language": "python",
   "name": "conda-root-py"
  },
  "language_info": {
   "codemirror_mode": {
    "name": "ipython",
    "version": 3
   },
   "file_extension": ".py",
   "mimetype": "text/x-python",
   "name": "python",
   "nbconvert_exporter": "python",
   "pygments_lexer": "ipython3",
   "version": "3.5.2"
  }
 },
 "nbformat": 4,
 "nbformat_minor": 1
}
